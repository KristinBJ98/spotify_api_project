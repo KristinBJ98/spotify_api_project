{
 "cells": [
  {
   "cell_type": "markdown",
   "id": "ada9da14",
   "metadata": {},
   "source": [
    "Spotipy API"
   ]
  },
  {
   "cell_type": "code",
   "execution_count": 159,
   "id": "b94dc067",
   "metadata": {},
   "outputs": [],
   "source": [
    "#Importing neccesary libraries\n",
    "import json\n",
    "import pandas as pd\n",
    "import spotipy\n",
    "from spotipy.oauth2 import SpotifyClientCredentials\n",
    "import matplotlib.pyplot as plt\n",
    "import numpy as np\n",
    "import os"
   ]
  },
  {
   "cell_type": "code",
   "execution_count": 160,
   "id": "0f3b83ac",
   "metadata": {},
   "outputs": [],
   "source": [
    "#Redirect_URI = \"https://localhost:8080/callback\"\n",
    "Client_ID = \"c71bae50194549399a615967e53c6450\"\n",
    "Redirect_URI = \"http://localhost:8080/callback/\"\n"
   ]
  },
  {
   "cell_type": "code",
   "execution_count": 161,
   "id": "84b94355",
   "metadata": {},
   "outputs": [],
   "source": [
    "with open('Spotify_secret.json', \"r\") as f:\n",
    "    secret = json.load(f)"
   ]
  },
  {
   "cell_type": "code",
   "execution_count": 162,
   "id": "4fd84769",
   "metadata": {},
   "outputs": [
    {
     "data": {
      "text/plain": [
       "'20adff09ca8a475ab94c13cede1ee868'"
      ]
     },
     "execution_count": 162,
     "metadata": {},
     "output_type": "execute_result"
    }
   ],
   "source": [
    "secret[\"secret\"]"
   ]
  },
  {
   "cell_type": "code",
   "execution_count": 163,
   "id": "9b030e98",
   "metadata": {},
   "outputs": [
    {
     "name": "stdout",
     "output_type": "stream",
     "text": [
      "\u001b[34mData\u001b[m\u001b[m/                        Spotify_Project 1 (1).ipynb\r\n",
      "LICENSE                      Spotify_secret.json\r\n",
      "README.md                    ~$otify_secret_txt.md\r\n"
     ]
    }
   ],
   "source": [
    "ls"
   ]
  },
  {
   "cell_type": "code",
   "execution_count": 164,
   "id": "ce471d3a",
   "metadata": {},
   "outputs": [
    {
     "data": {
      "text/plain": [
       "'/Users/kristinjohansen/Documents/Coding Projects Github/Spotify api project/spotify_api_project'"
      ]
     },
     "execution_count": 164,
     "metadata": {},
     "output_type": "execute_result"
    }
   ],
   "source": [
    "\n",
    "os.getcwd()"
   ]
  },
  {
   "cell_type": "code",
   "execution_count": 165,
   "id": "d4f59f8d",
   "metadata": {},
   "outputs": [],
   "source": [
    "# soptify app keys\n",
    "sp_auth = spotipy.SpotifyOAuth(client_id = Client_ID,\n",
    "                      client_secret = secret[\"secret\"],\n",
    "                      scope = 'user-read-recently-played,user-top-read',\n",
    "                      redirect_uri = Redirect_URI)"
   ]
  },
  {
   "cell_type": "code",
   "execution_count": 166,
   "id": "8bcc6b27",
   "metadata": {},
   "outputs": [
    {
     "data": {
      "text/plain": [
       "'AQDycSn5ZtLkOAF50W7aJ2kL3jRN1QXj13W6NfU6AKHK0CO6p3GsNrf4Pdm2yg-kSn1_s-0KikzWz3N4IEvGojLS0auNFPf07u1e0dFt6QWIGWIIQQQNrgB2x6fb3pKkEeT-Hl2NbIfEWlkK3qHIpUKgWakO5ZE9RrhEjLxvyqHsmec_JyJan79hOIfGtkvpM1dnRRXrtjj-V_PT000imAPOrrWtKBPyMip9Dhg'"
      ]
     },
     "execution_count": 166,
     "metadata": {},
     "output_type": "execute_result"
    }
   ],
   "source": [
    "# get authorizatgion \n",
    "\n",
    "#sp_auth.get_authorization_code()\n",
    "sp_auth.get_auth_response()"
   ]
  },
  {
   "cell_type": "code",
   "execution_count": 167,
   "id": "81d9a8a4",
   "metadata": {},
   "outputs": [],
   "source": [
    "# work with data\n",
    "# extra access via \"current_user_recently_played()\"\n",
    "sp = spotipy.Spotify(auth_manager = sp_auth)"
   ]
  },
  {
   "cell_type": "code",
   "execution_count": 168,
   "id": "4b032d68",
   "metadata": {
    "scrolled": true
   },
   "outputs": [
    {
     "data": {
      "text/plain": [
       "{'display_name': 'Kristin Bjørkhaug Johansen',\n",
       " 'external_urls': {'spotify': 'https://open.spotify.com/user/1199800973'},\n",
       " 'followers': {'href': None, 'total': 2},\n",
       " 'href': 'https://api.spotify.com/v1/users/1199800973',\n",
       " 'id': '1199800973',\n",
       " 'images': [{'height': None,\n",
       "   'url': 'https://scontent-ams2-1.xx.fbcdn.net/v/t1.6435-1/106509755_3120303878035800_7198362888784915788_n.jpg?stp=dst-jpg_s320x320&_nc_cat=105&ccb=1-7&_nc_sid=0c64ff&_nc_ohc=Xqxr2xvy89UAX9k5NfX&_nc_ht=scontent-ams2-1.xx&edm=AP4hL3IEAAAA&oh=00_AfA57PllknCd3FkeQxeDvgzmEsLeHDt7UVcrtufFCiRsMA&oe=644C257C',\n",
       "   'width': None}],\n",
       " 'type': 'user',\n",
       " 'uri': 'spotify:user:1199800973'}"
      ]
     },
     "execution_count": 168,
     "metadata": {},
     "output_type": "execute_result"
    }
   ],
   "source": [
    "sp.current_user()"
   ]
  },
  {
   "cell_type": "code",
   "execution_count": 169,
   "id": "674cc834",
   "metadata": {},
   "outputs": [
    {
     "name": "stdout",
     "output_type": "stream",
     "text": [
      "Loaded both datasets\n"
     ]
    }
   ],
   "source": [
    "\n",
    "data_folder = \"Data\"\n",
    "dataset1_filename = \"Top_40_tracks.csv\"\n",
    "dataset2_filename = \"Top_song_features.csv\"\n",
    "\n",
    "if os.path.exists(os.path.join(data_folder, dataset1_filename)) and os.path.exists(os.path.join(data_folder, dataset2_filename)):\n",
    "    # Load both datasets\n",
    "    dataset1 = pd.read_csv(os.path.join(data_folder, dataset1_filename))\n",
    "    dataset2 = pd.read_csv(os.path.join(data_folder, dataset2_filename))\n",
    "    print(\"Loaded both datasets\")\n",
    "elif os.path.exists(os.path.join(data_folder, dataset1_filename)):\n",
    "    # Load dataset 1 only\n",
    "    dataset1 = pd.read_csv(os.path.join(data_folder, dataset1_filename))\n",
    "    print(\"Loaded dataset 1\")\n",
    "elif os.path.exists(os.path.join(data_folder, dataset2_filename)):\n",
    "    # Load dataset 2 only\n",
    "    dataset2 = pd.read_csv(os.path.join(data_folder, dataset2_filename))\n",
    "    print(\"Loaded dataset 2\")"
   ]
  },
  {
   "cell_type": "code",
   "execution_count": 170,
   "id": "11b13c22",
   "metadata": {},
   "outputs": [],
   "source": [
    "\n",
    "my_top_songs = sp.current_user_top_tracks(limit = 20, time_range = \"long_term\")\n"
   ]
  },
  {
   "cell_type": "code",
   "execution_count": 171,
   "id": "29eff2e4",
   "metadata": {},
   "outputs": [],
   "source": [
    "dl_top = []\n",
    "    \n",
    "for item in my_top_songs[\"items\"]:\n",
    "    d = {}\n",
    "    d[\"track_title\"] = item[\"name\"]\n",
    "    da = []\n",
    "    for artist in item[\"artists\"]:\n",
    "        da.append(artist[\"name\"])\n",
    "    d[\"artists\"] = da\n",
    "    d[\"popularity\"] = item[\"popularity\"]\n",
    "    d[\"uri\"] = item[\"uri\"]\n",
    "    d[\"duration\"] = item[\"duration_ms\"]\n",
    "    dl_top.append(d)\n",
    "my_top_songs_df = pd.DataFrame(dl_top)"
   ]
  },
  {
   "cell_type": "code",
   "execution_count": 172,
   "id": "f99451ab",
   "metadata": {},
   "outputs": [],
   "source": [
    "#Save dataset for top songs\n",
    "my_top_songs_df.to_csv(\"Data/Top_20_tracks.csv\")\n",
    "Dataset_1 = pd.read_csv(\"Data/Top_20_tracks.csv\")"
   ]
  },
  {
   "cell_type": "code",
   "execution_count": 173,
   "id": "d3ff390e",
   "metadata": {},
   "outputs": [],
   "source": [
    "features = sp.audio_features(my_top_songs_df['uri'])"
   ]
  },
  {
   "cell_type": "code",
   "execution_count": 174,
   "id": "7955a429",
   "metadata": {},
   "outputs": [],
   "source": [
    "Df_features = pd.DataFrame(features)"
   ]
  },
  {
   "cell_type": "code",
   "execution_count": 175,
   "id": "b882a7c2",
   "metadata": {},
   "outputs": [],
   "source": [
    "#Save dataset for features\n",
    "Df_features.to_csv(\"Data/Top_song_features.csv\")"
   ]
  },
  {
   "cell_type": "code",
   "execution_count": 176,
   "id": "4bdad1a1",
   "metadata": {},
   "outputs": [],
   "source": [
    "Dataset_2 = pd.read_csv(\"Data/Top_song_features.csv\")"
   ]
  },
  {
   "cell_type": "code",
   "execution_count": 177,
   "id": "2f431b0b",
   "metadata": {},
   "outputs": [
    {
     "data": {
      "text/html": [
       "<div>\n",
       "<style scoped>\n",
       "    .dataframe tbody tr th:only-of-type {\n",
       "        vertical-align: middle;\n",
       "    }\n",
       "\n",
       "    .dataframe tbody tr th {\n",
       "        vertical-align: top;\n",
       "    }\n",
       "\n",
       "    .dataframe thead th {\n",
       "        text-align: right;\n",
       "    }\n",
       "</style>\n",
       "<table border=\"1\" class=\"dataframe\">\n",
       "  <thead>\n",
       "    <tr style=\"text-align: right;\">\n",
       "      <th></th>\n",
       "      <th>Unnamed: 0</th>\n",
       "      <th>track_title</th>\n",
       "      <th>artists</th>\n",
       "      <th>popularity</th>\n",
       "      <th>uri</th>\n",
       "      <th>duration</th>\n",
       "    </tr>\n",
       "  </thead>\n",
       "  <tbody>\n",
       "    <tr>\n",
       "      <th>0</th>\n",
       "      <td>0</td>\n",
       "      <td>bright side of the moon</td>\n",
       "      <td>['Christian French']</td>\n",
       "      <td>46</td>\n",
       "      <td>spotify:track:5r4G5w8ujwefEnrCT5uzoX</td>\n",
       "      <td>190661</td>\n",
       "    </tr>\n",
       "    <tr>\n",
       "      <th>1</th>\n",
       "      <td>1</td>\n",
       "      <td>TV Dream</td>\n",
       "      <td>['Larkins']</td>\n",
       "      <td>0</td>\n",
       "      <td>spotify:track:52zQtUaYzFCHWP7Jzi24pz</td>\n",
       "      <td>226666</td>\n",
       "    </tr>\n",
       "    <tr>\n",
       "      <th>2</th>\n",
       "      <td>2</td>\n",
       "      <td>Share Your Address</td>\n",
       "      <td>['Ben Platt']</td>\n",
       "      <td>53</td>\n",
       "      <td>spotify:track:74IgSPXYXx7v95NpCzGgsW</td>\n",
       "      <td>182466</td>\n",
       "    </tr>\n",
       "    <tr>\n",
       "      <th>3</th>\n",
       "      <td>3</td>\n",
       "      <td>Preacher Man</td>\n",
       "      <td>['THE DRIVER ERA']</td>\n",
       "      <td>51</td>\n",
       "      <td>spotify:track:0oeW7qeQnBULDmDWsq4w5o</td>\n",
       "      <td>219389</td>\n",
       "    </tr>\n",
       "    <tr>\n",
       "      <th>4</th>\n",
       "      <td>4</td>\n",
       "      <td>Killer Queen</td>\n",
       "      <td>['5 Seconds of Summer']</td>\n",
       "      <td>52</td>\n",
       "      <td>spotify:track:0SA903LGHxe4ExdRY2SqVH</td>\n",
       "      <td>199357</td>\n",
       "    </tr>\n",
       "    <tr>\n",
       "      <th>5</th>\n",
       "      <td>5</td>\n",
       "      <td>Power Over Me</td>\n",
       "      <td>['Dermot Kennedy']</td>\n",
       "      <td>73</td>\n",
       "      <td>spotify:track:4tViDtaHuSLnh7HVJTrKhs</td>\n",
       "      <td>206960</td>\n",
       "    </tr>\n",
       "    <tr>\n",
       "      <th>6</th>\n",
       "      <td>6</td>\n",
       "      <td>The Edge</td>\n",
       "      <td>['Panicland']</td>\n",
       "      <td>14</td>\n",
       "      <td>spotify:track:3V7fPYLX3zQB2c0h5GGVoK</td>\n",
       "      <td>212310</td>\n",
       "    </tr>\n",
       "    <tr>\n",
       "      <th>7</th>\n",
       "      <td>7</td>\n",
       "      <td>Dying in LA</td>\n",
       "      <td>['Panic! At The Disco']</td>\n",
       "      <td>55</td>\n",
       "      <td>spotify:track:18xmRkPWE0sGUzFyNNAAhN</td>\n",
       "      <td>229053</td>\n",
       "    </tr>\n",
       "    <tr>\n",
       "      <th>8</th>\n",
       "      <td>8</td>\n",
       "      <td>It's Alright</td>\n",
       "      <td>['Mother Mother']</td>\n",
       "      <td>61</td>\n",
       "      <td>spotify:track:1NCZMAnGrzUmpBzkBlJjNw</td>\n",
       "      <td>175000</td>\n",
       "    </tr>\n",
       "    <tr>\n",
       "      <th>9</th>\n",
       "      <td>9</td>\n",
       "      <td>Roaring 20s</td>\n",
       "      <td>['Panic! At The Disco']</td>\n",
       "      <td>59</td>\n",
       "      <td>spotify:track:0wdV94AXGRphrbkDWLNzVC</td>\n",
       "      <td>186600</td>\n",
       "    </tr>\n",
       "    <tr>\n",
       "      <th>10</th>\n",
       "      <td>10</td>\n",
       "      <td>Break My Heart Again</td>\n",
       "      <td>['FINNEAS']</td>\n",
       "      <td>13</td>\n",
       "      <td>spotify:track:2is19a6HY7ZdWP654IMhEE</td>\n",
       "      <td>238012</td>\n",
       "    </tr>\n",
       "    <tr>\n",
       "      <th>11</th>\n",
       "      <td>11</td>\n",
       "      <td>Let's Fall in Love for the Night</td>\n",
       "      <td>['FINNEAS']</td>\n",
       "      <td>14</td>\n",
       "      <td>spotify:track:7kQkmyoHCEqwe7QwDbkSXM</td>\n",
       "      <td>190348</td>\n",
       "    </tr>\n",
       "    <tr>\n",
       "      <th>12</th>\n",
       "      <td>12</td>\n",
       "      <td>Blinding Lights</td>\n",
       "      <td>['The Weeknd']</td>\n",
       "      <td>90</td>\n",
       "      <td>spotify:track:0VjIjW4GlUZAMYd2vXMi3b</td>\n",
       "      <td>200040</td>\n",
       "    </tr>\n",
       "    <tr>\n",
       "      <th>13</th>\n",
       "      <td>13</td>\n",
       "      <td>I Lost a Friend</td>\n",
       "      <td>['FINNEAS']</td>\n",
       "      <td>4</td>\n",
       "      <td>spotify:track:49MMefftWPcltNP4OOJGSs</td>\n",
       "      <td>237020</td>\n",
       "    </tr>\n",
       "    <tr>\n",
       "      <th>14</th>\n",
       "      <td>14</td>\n",
       "      <td>All My Friends</td>\n",
       "      <td>['Hoodie Allen', 'State Champs']</td>\n",
       "      <td>45</td>\n",
       "      <td>spotify:track:3IyWX691xysUXejrMif21g</td>\n",
       "      <td>198999</td>\n",
       "    </tr>\n",
       "    <tr>\n",
       "      <th>15</th>\n",
       "      <td>15</td>\n",
       "      <td>If the World Was Ending (feat. Julia Michaels)</td>\n",
       "      <td>['JP Saxe', 'Julia Michaels']</td>\n",
       "      <td>77</td>\n",
       "      <td>spotify:track:2kJwzbxV2ppxnQoYw4GLBZ</td>\n",
       "      <td>208687</td>\n",
       "    </tr>\n",
       "    <tr>\n",
       "      <th>16</th>\n",
       "      <td>16</td>\n",
       "      <td>Idk</td>\n",
       "      <td>['THE DLX']</td>\n",
       "      <td>38</td>\n",
       "      <td>spotify:track:6llVxshZN6xXIIEa1N8vYF</td>\n",
       "      <td>191829</td>\n",
       "    </tr>\n",
       "    <tr>\n",
       "      <th>17</th>\n",
       "      <td>17</td>\n",
       "      <td>IDK You Yet</td>\n",
       "      <td>['Alexander 23']</td>\n",
       "      <td>12</td>\n",
       "      <td>spotify:track:47EWMOElkkbMp5m9SBkx7d</td>\n",
       "      <td>184638</td>\n",
       "    </tr>\n",
       "    <tr>\n",
       "      <th>18</th>\n",
       "      <td>18</td>\n",
       "      <td>21st Century Machine</td>\n",
       "      <td>['Catie Turner']</td>\n",
       "      <td>40</td>\n",
       "      <td>spotify:track:45BnLP9VBDtunsiwFUgvq4</td>\n",
       "      <td>231551</td>\n",
       "    </tr>\n",
       "    <tr>\n",
       "      <th>19</th>\n",
       "      <td>19</td>\n",
       "      <td>Trampoline</td>\n",
       "      <td>['The Unlikely Candidates']</td>\n",
       "      <td>45</td>\n",
       "      <td>spotify:track:3geJxU83R4EzSjIymcXSt2</td>\n",
       "      <td>210590</td>\n",
       "    </tr>\n",
       "  </tbody>\n",
       "</table>\n",
       "</div>"
      ],
      "text/plain": [
       "    Unnamed: 0                                     track_title  \\\n",
       "0            0                         bright side of the moon   \n",
       "1            1                                        TV Dream   \n",
       "2            2                              Share Your Address   \n",
       "3            3                                    Preacher Man   \n",
       "4            4                                    Killer Queen   \n",
       "5            5                                   Power Over Me   \n",
       "6            6                                        The Edge   \n",
       "7            7                                     Dying in LA   \n",
       "8            8                                    It's Alright   \n",
       "9            9                                     Roaring 20s   \n",
       "10          10                            Break My Heart Again   \n",
       "11          11                Let's Fall in Love for the Night   \n",
       "12          12                                 Blinding Lights   \n",
       "13          13                                 I Lost a Friend   \n",
       "14          14                                  All My Friends   \n",
       "15          15  If the World Was Ending (feat. Julia Michaels)   \n",
       "16          16                                             Idk   \n",
       "17          17                                     IDK You Yet   \n",
       "18          18                            21st Century Machine   \n",
       "19          19                                      Trampoline   \n",
       "\n",
       "                             artists  popularity  \\\n",
       "0               ['Christian French']          46   \n",
       "1                        ['Larkins']           0   \n",
       "2                      ['Ben Platt']          53   \n",
       "3                 ['THE DRIVER ERA']          51   \n",
       "4            ['5 Seconds of Summer']          52   \n",
       "5                 ['Dermot Kennedy']          73   \n",
       "6                      ['Panicland']          14   \n",
       "7            ['Panic! At The Disco']          55   \n",
       "8                  ['Mother Mother']          61   \n",
       "9            ['Panic! At The Disco']          59   \n",
       "10                       ['FINNEAS']          13   \n",
       "11                       ['FINNEAS']          14   \n",
       "12                    ['The Weeknd']          90   \n",
       "13                       ['FINNEAS']           4   \n",
       "14  ['Hoodie Allen', 'State Champs']          45   \n",
       "15     ['JP Saxe', 'Julia Michaels']          77   \n",
       "16                       ['THE DLX']          38   \n",
       "17                  ['Alexander 23']          12   \n",
       "18                  ['Catie Turner']          40   \n",
       "19       ['The Unlikely Candidates']          45   \n",
       "\n",
       "                                     uri  duration  \n",
       "0   spotify:track:5r4G5w8ujwefEnrCT5uzoX    190661  \n",
       "1   spotify:track:52zQtUaYzFCHWP7Jzi24pz    226666  \n",
       "2   spotify:track:74IgSPXYXx7v95NpCzGgsW    182466  \n",
       "3   spotify:track:0oeW7qeQnBULDmDWsq4w5o    219389  \n",
       "4   spotify:track:0SA903LGHxe4ExdRY2SqVH    199357  \n",
       "5   spotify:track:4tViDtaHuSLnh7HVJTrKhs    206960  \n",
       "6   spotify:track:3V7fPYLX3zQB2c0h5GGVoK    212310  \n",
       "7   spotify:track:18xmRkPWE0sGUzFyNNAAhN    229053  \n",
       "8   spotify:track:1NCZMAnGrzUmpBzkBlJjNw    175000  \n",
       "9   spotify:track:0wdV94AXGRphrbkDWLNzVC    186600  \n",
       "10  spotify:track:2is19a6HY7ZdWP654IMhEE    238012  \n",
       "11  spotify:track:7kQkmyoHCEqwe7QwDbkSXM    190348  \n",
       "12  spotify:track:0VjIjW4GlUZAMYd2vXMi3b    200040  \n",
       "13  spotify:track:49MMefftWPcltNP4OOJGSs    237020  \n",
       "14  spotify:track:3IyWX691xysUXejrMif21g    198999  \n",
       "15  spotify:track:2kJwzbxV2ppxnQoYw4GLBZ    208687  \n",
       "16  spotify:track:6llVxshZN6xXIIEa1N8vYF    191829  \n",
       "17  spotify:track:47EWMOElkkbMp5m9SBkx7d    184638  \n",
       "18  spotify:track:45BnLP9VBDtunsiwFUgvq4    231551  \n",
       "19  spotify:track:3geJxU83R4EzSjIymcXSt2    210590  "
      ]
     },
     "execution_count": 177,
     "metadata": {},
     "output_type": "execute_result"
    }
   ],
   "source": [
    "Dataset_1"
   ]
  },
  {
   "cell_type": "code",
   "execution_count": 194,
   "id": "9c88531c",
   "metadata": {},
   "outputs": [
    {
     "data": {
      "text/plain": [
       "Text(0.5, 1.0, 'My top 20 spotify songs')"
      ]
     },
     "execution_count": 194,
     "metadata": {},
     "output_type": "execute_result"
    },
    {
     "data": {
      "image/png": "[encoded data removed]",
      "text/plain": [
       "<Figure size 640x480 with 1 Axes>"
      ]
     },
     "metadata": {},
     "output_type": "display_data"
    }
   ],
   "source": [
    "#Visualization\n",
    "plt.barh(my_top_songs_df['track_title'], Df_features['danceability'], height = 0.7, color = '#FFD700')\n",
    "plt.gca().invert_yaxis()\n",
    "plt.xlabel('Danceability')\n",
    "plt.title('My top 20 spotify songs')"
   ]
  },
  {
   "cell_type": "code",
   "execution_count": 179,
   "id": "69993637",
   "metadata": {},
   "outputs": [],
   "source": [
    "def generate_scatter_plot(Dataset_1, Dataset_2):\n",
    "    x = Dataset_1['x_column'].values\n",
    "    y = Dataset_2['y_column'].values\n",
    "    plt.scatter(x, y)\n",
    "    plt.xlabel('x')\n",
    "    plt.ylabel('y')\n",
    "    plt.title('Scatter Plot')"
   ]
  },
  {
   "cell_type": "code",
   "execution_count": null,
   "id": "4c6e9633",
   "metadata": {},
   "outputs": [],
   "source": [
    "\n"
   ]
  },
  {
   "cell_type": "code",
   "execution_count": null,
   "id": "f728fbd2",
   "metadata": {},
   "outputs": [],
   "source": []
  }
 ],
 "metadata": {
  "kernelspec": {
   "display_name": "Python 3 (ipykernel)",
   "language": "python",
   "name": "python3"
  },
  "language_info": {
   "codemirror_mode": {
    "name": "ipython",
    "version": 3
   },
   "file_extension": ".py",
   "mimetype": "text/x-python",
   "name": "python",
   "nbconvert_exporter": "python",
   "pygments_lexer": "ipython3",
   "version": "3.9.13"
  }
 },
 "nbformat": 4,
 "nbformat_minor": 5
}
