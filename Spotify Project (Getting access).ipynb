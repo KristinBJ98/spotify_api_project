{
 "cells": [
  {
   "cell_type": "markdown",
   "id": "ada9da14",
   "metadata": {},
   "source": [
    "Spotipy API"
   ]
  },
  {
   "cell_type": "code",
   "execution_count": 28,
   "id": "b94dc067",
   "metadata": {},
   "outputs": [],
   "source": [
    "#Importing neccesary libraries\n",
    "import json\n",
    "import pandas as pd\n",
    "import spotipy\n",
    "from spotipy.oauth2 import SpotifyClientCredentials\n",
    "import matplotlib.pyplot as plt\n",
    "import numpy as np\n",
    "import os"
   ]
  },
  {
   "cell_type": "code",
   "execution_count": 29,
   "id": "0f3b83ac",
   "metadata": {},
   "outputs": [],
   "source": [
    "#Redirect_URI = \"https://localhost:8080/callback\"\n",
    "Client_ID = \"c71bae50194549399a615967e53c6450\"\n",
    "Redirect_URI = \"http://localhost:8080/callback/\"\n"
   ]
  },
  {
   "cell_type": "code",
   "execution_count": 30,
   "id": "84b94355",
   "metadata": {},
   "outputs": [],
   "source": [
    "with open('Spotify_secret.json', \"r\") as f:\n",
    "    secret = json.load(f)"
   ]
  },
  {
   "cell_type": "code",
   "execution_count": 31,
   "id": "4fd84769",
   "metadata": {},
   "outputs": [
    {
     "data": {
      "text/plain": [
       "'20adff09ca8a475ab94c13cede1ee868'"
      ]
     },
     "execution_count": 31,
     "metadata": {},
     "output_type": "execute_result"
    }
   ],
   "source": [
    "secret[\"secret\"]"
   ]
  },
  {
   "cell_type": "code",
   "execution_count": 32,
   "id": "4be2ea92",
   "metadata": {},
   "outputs": [
    {
     "name": "stdout",
     "output_type": "stream",
     "text": [
      "\u001b[34mData\u001b[m\u001b[m/                                   Spotify Project (Getting access).ipynb\r\n",
      "LICENSE                                 Spotify_secret.json\r\n",
      "Make spotify graphs.ipynb               \u001b[34mmappe uten navn\u001b[m\u001b[m/\r\n",
      "README.md\r\n"
     ]
    }
   ],
   "source": [
    "ls"
   ]
  },
  {
   "cell_type": "code",
   "execution_count": 33,
   "id": "1481a904",
   "metadata": {},
   "outputs": [
    {
     "data": {
      "text/plain": [
       "'/Users/kristinjohansen/Documents/Coding Projects Github/Spotify api project/spotify_api_project'"
      ]
     },
     "execution_count": 33,
     "metadata": {},
     "output_type": "execute_result"
    }
   ],
   "source": [
    "\n",
    "os.getcwd()"
   ]
  },
  {
   "cell_type": "code",
   "execution_count": 34,
   "id": "d4f59f8d",
   "metadata": {},
   "outputs": [],
   "source": [
    "# soptify app keys\n",
    "sp_auth = spotipy.SpotifyOAuth(client_id = Client_ID,\n",
    "                      client_secret = secret[\"secret\"],\n",
    "                      scope = 'user-read-recently-played,user-top-read',\n",
    "                      redirect_uri = Redirect_URI)"
   ]
  },
  {
   "cell_type": "code",
   "execution_count": 35,
   "id": "8bcc6b27",
   "metadata": {},
   "outputs": [
    {
     "data": {
      "text/plain": [
       "'AQDkbHEFS_8zqtqhfmxeD2b5g3XnrJy3JZuPvwiL19Sjx4Q1upfTdFdvtAhPoSvVfuPQrDqRnelvWtAwvXA3hrOWEbM2yiaQATsNa2APZ0EbhIXtZXA5bCweYT8CSrmZDWOIfuRmN6-0bY8J3Al2HKPzZcMe9mXYxF3GFRdJUmVEz2f1qEig1hQKUgGMWDumG9c2zbcYCEocYDEBpit6WmWyn6D9Navhmp8zz1k'"
      ]
     },
     "execution_count": 35,
     "metadata": {},
     "output_type": "execute_result"
    }
   ],
   "source": [
    "# get authorizatgion \n",
    "\n",
    "#sp_auth.get_authorization_code()\n",
    "sp_auth.get_auth_response()"
   ]
  },
  {
   "cell_type": "code",
   "execution_count": 36,
   "id": "81d9a8a4",
   "metadata": {},
   "outputs": [],
   "source": [
    "# work with data\n",
    "# extra access via \"current_user_recently_played()\"\n",
    "sp = spotipy.Spotify(auth_manager = sp_auth)"
   ]
  },
  {
   "cell_type": "code",
   "execution_count": 37,
   "id": "d74a65f7",
   "metadata": {
    "scrolled": true
   },
   "outputs": [
    {
     "data": {
      "text/plain": [
       "{'display_name': 'Kristin Bjørkhaug Johansen',\n",
       " 'external_urls': {'spotify': 'https://open.spotify.com/user/1199800973'},\n",
       " 'followers': {'href': None, 'total': 2},\n",
       " 'href': 'https://api.spotify.com/v1/users/1199800973',\n",
       " 'id': '1199800973',\n",
       " 'images': [{'height': None,\n",
       "   'url': 'https://scontent-ams2-1.xx.fbcdn.net/v/t1.6435-1/106509755_3120303878035800_7198362888784915788_n.jpg?stp=dst-jpg_s320x320&_nc_cat=105&ccb=1-7&_nc_sid=0c64ff&_nc_ohc=Xqxr2xvy89UAX_ZHZhO&_nc_ht=scontent-ams2-1.xx&edm=AP4hL3IEAAAA&oh=00_AfB4i5TetSvfChN5-vu4_-7LPo_FYP-1Kzkaj0m9MDXJDg&oe=644CCE3C',\n",
       "   'width': None}],\n",
       " 'type': 'user',\n",
       " 'uri': 'spotify:user:1199800973'}"
      ]
     },
     "execution_count": 37,
     "metadata": {},
     "output_type": "execute_result"
    }
   ],
   "source": [
    "sp.current_user()"
   ]
  },
  {
   "cell_type": "code",
   "execution_count": 38,
   "id": "11b13c22",
   "metadata": {},
   "outputs": [],
   "source": [
    "\n",
    "my_top_songs = sp.current_user_top_tracks(limit = 20, time_range = \"long_term\")\n"
   ]
  },
  {
   "cell_type": "code",
   "execution_count": 39,
   "id": "29eff2e4",
   "metadata": {},
   "outputs": [],
   "source": [
    "dl_top = []\n",
    "    \n",
    "for item in my_top_songs[\"items\"]:\n",
    "    d = {}\n",
    "    d[\"track_title\"] = item[\"name\"]\n",
    "    da = []\n",
    "    for artist in item[\"artists\"]:\n",
    "        da.append(artist[\"name\"])\n",
    "    d[\"artists\"] = da\n",
    "    d[\"popularity\"] = item[\"popularity\"]\n",
    "    d[\"uri\"] = item[\"uri\"]\n",
    "    d[\"duration\"] = item[\"duration_ms\"]\n",
    "    dl_top.append(d)\n",
    "my_top_songs_df = pd.DataFrame(dl_top)"
   ]
  },
  {
   "cell_type": "code",
   "execution_count": 40,
   "id": "20aeb2f1",
   "metadata": {},
   "outputs": [],
   "source": [
    "#Save dataset for top songs\n",
    "my_top_songs_df.to_csv(\"Data/Top_20_tracks.csv\")\n",
    "Dataset_1 = pd.read_csv(\"Data/Top_20_tracks.csv\")"
   ]
  },
  {
   "cell_type": "code",
   "execution_count": 41,
   "id": "d3ff390e",
   "metadata": {},
   "outputs": [],
   "source": [
    "features = sp.audio_features(my_top_songs_df['uri'])"
   ]
  },
  {
   "cell_type": "code",
   "execution_count": 42,
   "id": "7955a429",
   "metadata": {},
   "outputs": [],
   "source": [
    "Df_features = pd.DataFrame(features)"
   ]
  },
  {
   "cell_type": "code",
   "execution_count": 43,
   "id": "b882a7c2",
   "metadata": {},
   "outputs": [],
   "source": [
    "#Save dataset for features\n",
    "Df_features.to_csv(\"Data/Top_song_features.csv\")"
   ]
  },
  {
   "cell_type": "code",
   "execution_count": 44,
   "id": "4bdad1a1",
   "metadata": {},
   "outputs": [],
   "source": [
    "Dataset_2 = pd.read_csv(\"Data/Top_song_features.csv\")"
   ]
  },
  {
   "cell_type": "code",
   "execution_count": null,
   "id": "0f24e4b7",
   "metadata": {},
   "outputs": [],
   "source": []
  },
  {
   "cell_type": "code",
   "execution_count": null,
   "id": "3665dbe8",
   "metadata": {},
   "outputs": [],
   "source": []
  }
 ],
 "metadata": {
  "kernelspec": {
   "display_name": "Python 3 (ipykernel)",
   "language": "python",
   "name": "python3"
  },
  "language_info": {
   "codemirror_mode": {
    "name": "ipython",
    "version": 3
   },
   "file_extension": ".py",
   "mimetype": "text/x-python",
   "name": "python",
   "nbconvert_exporter": "python",
   "pygments_lexer": "ipython3",
   "version": "3.9.13"
  }
 },
 "nbformat": 4,
 "nbformat_minor": 5
}
