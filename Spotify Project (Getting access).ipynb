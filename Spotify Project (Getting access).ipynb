{
 "cells": [
  {
   "cell_type": "markdown",
   "id": "ada9da14",
   "metadata": {},
   "source": [
    "Spotipy API"
   ]
  },
  {
   "cell_type": "code",
   "execution_count": 39,
   "id": "b94dc067",
   "metadata": {},
   "outputs": [],
   "source": [
    "#Importing neccesary libraries and Cliend Cridentials Flow\n",
    "\n",
    "import json\n",
    "import pandas as pd\n",
    "import spotipy\n",
    "from spotipy.oauth2 import SpotifyClientCredentials\n",
    "import matplotlib.pyplot as plt\n",
    "import numpy as np\n",
    "import os"
   ]
  },
  {
   "cell_type": "code",
   "execution_count": 40,
   "id": "0f3b83ac",
   "metadata": {},
   "outputs": [],
   "source": [
    "#Creating Spotify App and getting ID´s\n",
    "\n",
    "Client_ID = \"c71bae50194549399a615967e53c6450\"\n",
    "Redirect_URI = \"http://localhost:8080/callback/\"\n"
   ]
  },
  {
   "cell_type": "code",
   "execution_count": 41,
   "id": "84b94355",
   "metadata": {},
   "outputs": [],
   "source": [
    "#Opening the secret file in read mode and assigning the json file to the variable \"secret\"\n",
    "\n",
    "with open('Spotify_secret.json', \"r\") as f:\n",
    "    secret = json.load(f)"
   ]
  },
  {
   "cell_type": "code",
   "execution_count": 42,
   "id": "d4f59f8d",
   "metadata": {},
   "outputs": [],
   "source": [
    "#soptify app keys\n",
    "sp_auth = spotipy.SpotifyOAuth(client_id = Client_ID,\n",
    "                      client_secret = secret[\"secret\"],\n",
    "                      scope = 'user-read-recently-played,user-top-read',\n",
    "                      redirect_uri = Redirect_URI)"
   ]
  },
  {
   "cell_type": "code",
   "execution_count": 43,
   "id": "8bcc6b27",
   "metadata": {},
   "outputs": [
    {
     "data": {
      "text/plain": [
       "'AQDOwG738-TrlQKVzIuYkc4OBfHl1S6KNxYTMOWSTC5RYoUHuuCSN1KDsD8bqqUZni_pyquzZIsVuZINIdDt8RXrtpCW6pOwvcFIWxZj3rzb16NdKUbLj7pQQhVsNPE8R55epx553ASzkdmKV3h1GVtaeLQOxTpkcJuFmdw40wM-eivnVIrgNY17VvZyBXfZVtR0YjpH_oX2c5VSSojlE3KghmxOMWkF8AxzFOo'"
      ]
     },
     "execution_count": 43,
     "metadata": {},
     "output_type": "execute_result"
    }
   ],
   "source": [
    "#getting authorizatgion \n",
    "sp_auth.get_auth_response()"
   ]
  },
  {
   "cell_type": "code",
   "execution_count": 44,
   "id": "81d9a8a4",
   "metadata": {},
   "outputs": [],
   "source": [
    "#extra access via \"current_user_recently_played()\"\n",
    "sp = spotipy.Spotify(auth_manager = sp_auth)"
   ]
  },
  {
   "cell_type": "code",
   "execution_count": 45,
   "id": "11b13c22",
   "metadata": {},
   "outputs": [],
   "source": [
    "# creating dataset for top songs\n",
    "my_top_songs = sp.current_user_top_tracks(limit = 20, time_range = \"long_term\")\n",
    "\n",
    "\n",
    "dl_top = []\n",
    "    \n",
    "for item in my_top_songs[\"items\"]:\n",
    "    d = {}\n",
    "    d[\"track_title\"] = item[\"name\"]\n",
    "    da = []\n",
    "    for artist in item[\"artists\"]:\n",
    "        da.append(artist[\"name\"])\n",
    "    d[\"artists\"] = da\n",
    "    d[\"popularity\"] = item[\"popularity\"]\n",
    "    d[\"uri\"] = item[\"uri\"]\n",
    "    d[\"duration\"] = item[\"duration_ms\"]\n",
    "    dl_top.append(d)\n",
    "my_top_songs_df = pd.DataFrame(dl_top)\n",
    "\n",
    "#Save dataset for top songs\n",
    "my_top_songs_df.to_csv(\"Data/Top_20_tracks.csv\")\n",
    "\n",
    "Dataset_1 = pd.read_csv(\"Data/Top_20_tracks.csv\")"
   ]
  },
  {
   "cell_type": "code",
   "execution_count": 46,
   "id": "d3ff390e",
   "metadata": {},
   "outputs": [],
   "source": [
    "#Creating dataset for features\n",
    "features = sp.audio_features(my_top_songs_df['uri'])\n",
    "\n",
    "Df_features = pd.DataFrame(features)\n",
    "\n",
    "#Save dataset for features\n",
    "Df_features.to_csv(\"Data/Top_song_features.csv\")\n",
    "\n",
    "Dataset_2 = pd.read_csv(\"Data/Top_song_features.csv\")"
   ]
  },
  {
   "cell_type": "code",
   "execution_count": 47,
   "id": "0f24e4b7",
   "metadata": {},
   "outputs": [],
   "source": [
    "#Getting information about my top artists\n",
    "my_top_artists = sp.current_user_top_artists(limit=20, offset=0, time_range='long_term')\n",
    "\n",
    "# extracting the genre information for each artist and adding it to a list\n",
    "genres_list = []\n",
    "for artist in my_top_artists['items']:\n",
    "    genres_list.extend(artist['genres'])\n",
    "\n",
    "# count the frequency of each genre\n",
    "genre_counts = {}\n",
    "for genre in genres_list:\n",
    "    if genre not in genre_counts:\n",
    "        genre_counts[genre] = 1\n",
    "    else:\n",
    "        genre_counts[genre] += 1\n",
    "\n",
    "# sort the genre counts and take the top 10\n",
    "top_genres = sorted(genre_counts.items(), key=lambda x: x[1], reverse=True)[:10]\n",
    "\n",
    "# create a dataframe from the top genres data\n",
    "df = pd.DataFrame(top_genres, columns=['genre', 'count'])\n",
    "\n",
    "# save dataset for top genres\n",
    "df.to_csv(\"Data/Top_genres.csv\", index=False)"
   ]
  }
 ],
 "metadata": {
  "kernelspec": {
   "display_name": "Python 3 (ipykernel)",
   "language": "python",
   "name": "python3"
  },
  "language_info": {
   "codemirror_mode": {
    "name": "ipython",
    "version": 3
   },
   "file_extension": ".py",
   "mimetype": "text/x-python",
   "name": "python",
   "nbconvert_exporter": "python",
   "pygments_lexer": "ipython3",
   "version": "3.9.13"
  }
 },
 "nbformat": 4,
 "nbformat_minor": 5
}
