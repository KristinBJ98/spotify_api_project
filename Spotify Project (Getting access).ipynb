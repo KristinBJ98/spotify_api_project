{
 "cells": [
  {
   "cell_type": "markdown",
   "id": "ada9da14",
   "metadata": {},
   "source": [
    "Spotipy API"
   ]
  },
  {
   "cell_type": "code",
   "execution_count": 8,
   "id": "b94dc067",
   "metadata": {},
   "outputs": [],
   "source": [
    "#Importing neccesary libraries and Cliend Cridentials Flow\n",
    "\n",
    "import json\n",
    "import pandas as pd\n",
    "import spotipy\n",
    "from spotipy.oauth2 import SpotifyClientCredentials\n",
    "import matplotlib.pyplot as plt\n",
    "import numpy as np\n",
    "import os"
   ]
  },
  {
   "cell_type": "code",
   "execution_count": 9,
   "id": "0f3b83ac",
   "metadata": {},
   "outputs": [],
   "source": [
    "#Creating Spotify App and getting ID´s\n",
    "\n",
    "Client_ID = \"c71bae50194549399a615967e53c6450\"\n",
    "Redirect_URI = \"http://localhost:8080/callback/\"\n"
   ]
  },
  {
   "cell_type": "code",
   "execution_count": 10,
   "id": "84b94355",
   "metadata": {},
   "outputs": [],
   "source": [
    "#Opening the secret file in read mode and assigning the json file to the variable \"secret\"\n",
    "with open('Spotify_secret.json', \"r\") as f:\n",
    "    secret = json.load(f)"
   ]
  },
  {
   "cell_type": "code",
   "execution_count": 11,
   "id": "4fd84769",
   "metadata": {},
   "outputs": [
    {
     "data": {
      "text/plain": [
       "'20adff09ca8a475ab94c13cede1ee868'"
      ]
     },
     "execution_count": 11,
     "metadata": {},
     "output_type": "execute_result"
    }
   ],
   "source": [
    "#Reading the secret file with the dictionary object \"secret\"\n",
    "secret[\"secret\"]"
   ]
  },
  {
   "cell_type": "code",
   "execution_count": 12,
   "id": "d4f59f8d",
   "metadata": {},
   "outputs": [],
   "source": [
    "#soptify app keys\n",
    "sp_auth = spotipy.SpotifyOAuth(client_id = Client_ID,\n",
    "                      client_secret = secret[\"secret\"],\n",
    "                      scope = 'user-read-recently-played,user-top-read',\n",
    "                      redirect_uri = Redirect_URI)"
   ]
  },
  {
   "cell_type": "code",
   "execution_count": 13,
   "id": "8bcc6b27",
   "metadata": {},
   "outputs": [
    {
     "data": {
      "text/plain": [
       "'AQBs6talxnH4mdwlW6AYL8uHw9ucyzU_ucryHdz718F1FUUxez1YL4BwAS4CzIREdd6P9n9X01NMMp7wQbWx6X9hi1ClSqU2w-JKy7qb2K5t465g8uwRgMY0bsBZ56cBJb5q9WzNV_kxFqkwE8ObHemeFcE6MvvxHnLKh1fAB5HLQulrRcjgPuKhqAj9gAjjpdteE2WIKXT-Ov1ZtpMP_XGZ4p7ZOnLnND_nhRY'"
      ]
     },
     "execution_count": 13,
     "metadata": {},
     "output_type": "execute_result"
    }
   ],
   "source": [
    "#getting authorizatgion \n",
    "sp_auth.get_auth_response()"
   ]
  },
  {
   "cell_type": "code",
   "execution_count": 14,
   "id": "81d9a8a4",
   "metadata": {},
   "outputs": [],
   "source": [
    "#extra access via \"current_user_recently_played()\"\n",
    "sp = spotipy.Spotify(auth_manager = sp_auth)"
   ]
  },
  {
   "cell_type": "code",
   "execution_count": 15,
   "id": "d74a65f7",
   "metadata": {
    "scrolled": true
   },
   "outputs": [
    {
     "data": {
      "text/plain": [
       "{'display_name': 'Kristin Bjørkhaug Johansen',\n",
       " 'external_urls': {'spotify': 'https://open.spotify.com/user/1199800973'},\n",
       " 'followers': {'href': None, 'total': 2},\n",
       " 'href': 'https://api.spotify.com/v1/users/1199800973',\n",
       " 'id': '1199800973',\n",
       " 'images': [{'height': None,\n",
       "   'url': 'https://scontent-ams2-1.xx.fbcdn.net/v/t1.6435-1/106509755_3120303878035800_7198362888784915788_n.jpg?stp=dst-jpg_s320x320&_nc_cat=105&ccb=1-7&_nc_sid=0c64ff&_nc_ohc=6J4ZOfNNenYAX8tzZFb&_nc_ht=scontent-ams2-1.xx&edm=AP4hL3IEAAAA&oh=00_AfCKaLxo5TxCi6SwhQxwZsl9IBVzX7VADkUytB6wHf3NYQ&oe=64532D7C',\n",
       "   'width': None}],\n",
       " 'type': 'user',\n",
       " 'uri': 'spotify:user:1199800973'}"
      ]
     },
     "execution_count": 15,
     "metadata": {},
     "output_type": "execute_result"
    }
   ],
   "source": [
    "sp.current_user()"
   ]
  },
  {
   "cell_type": "code",
   "execution_count": 16,
   "id": "11b13c22",
   "metadata": {},
   "outputs": [],
   "source": [
    "# work with data\n",
    "my_top_songs = sp.current_user_top_tracks(limit = 20, time_range = \"long_term\")\n"
   ]
  },
  {
   "cell_type": "code",
   "execution_count": 17,
   "id": "29eff2e4",
   "metadata": {},
   "outputs": [],
   "source": [
    "dl_top = []\n",
    "    \n",
    "for item in my_top_songs[\"items\"]:\n",
    "    d = {}\n",
    "    d[\"track_title\"] = item[\"name\"]\n",
    "    da = []\n",
    "    for artist in item[\"artists\"]:\n",
    "        da.append(artist[\"name\"])\n",
    "    d[\"artists\"] = da\n",
    "    d[\"popularity\"] = item[\"popularity\"]\n",
    "    d[\"uri\"] = item[\"uri\"]\n",
    "    d[\"duration\"] = item[\"duration_ms\"]\n",
    "    dl_top.append(d)\n",
    "my_top_songs_df = pd.DataFrame(dl_top)"
   ]
  },
  {
   "cell_type": "code",
   "execution_count": 18,
   "id": "20aeb2f1",
   "metadata": {},
   "outputs": [],
   "source": [
    "#Save dataset for top songs\n",
    "my_top_songs_df.to_csv(\"Data/Top_20_tracks.csv\")\n",
    "Dataset_1 = pd.read_csv(\"Data/Top_20_tracks.csv\")"
   ]
  },
  {
   "cell_type": "code",
   "execution_count": 19,
   "id": "d3ff390e",
   "metadata": {},
   "outputs": [],
   "source": [
    "features = sp.audio_features(my_top_songs_df['uri'])"
   ]
  },
  {
   "cell_type": "code",
   "execution_count": 20,
   "id": "7955a429",
   "metadata": {},
   "outputs": [],
   "source": [
    "Df_features = pd.DataFrame(features)"
   ]
  },
  {
   "cell_type": "code",
   "execution_count": 21,
   "id": "b882a7c2",
   "metadata": {},
   "outputs": [],
   "source": [
    "#Save dataset for features\n",
    "Df_features.to_csv(\"Data/Top_song_features.csv\")"
   ]
  },
  {
   "cell_type": "code",
   "execution_count": 22,
   "id": "4bdad1a1",
   "metadata": {},
   "outputs": [],
   "source": [
    "Dataset_2 = pd.read_csv(\"Data/Top_song_features.csv\")"
   ]
  },
  {
   "cell_type": "code",
   "execution_count": 27,
   "id": "0f24e4b7",
   "metadata": {},
   "outputs": [],
   "source": [
    "my_top_artists = sp.current_user_top_artists(limit=20, offset=0, time_range='long_term')"
   ]
  },
  {
   "cell_type": "code",
   "execution_count": 38,
   "id": "bb035b82",
   "metadata": {},
   "outputs": [],
   "source": [
    "# extract the genre information for each artist and add it to a list\n",
    "genres_list = []\n",
    "for artist in my_top_artists['items']:\n",
    "    genres_list.extend(artist['genres'])\n",
    "\n",
    "# count the frequency of each genre\n",
    "genre_counts = {}\n",
    "for genre in genres_list:\n",
    "    if genre not in genre_counts:\n",
    "        genre_counts[genre] = 1\n",
    "    else:\n",
    "        genre_counts[genre] += 1\n",
    "\n",
    "# sort the genre counts and take the top 10\n",
    "top_genres = sorted(genre_counts.items(), key=lambda x: x[1], reverse=True)[:10]\n",
    "\n",
    "# create a DataFrame from the top genres data\n",
    "df = pd.DataFrame(top_genres, columns=['genre', 'count'])\n",
    "\n",
    "# save the DataFrame to a CSV file\n",
    "df.to_csv(\"Data/Top_genres.csv\", index=False)"
   ]
  },
  {
   "cell_type": "code",
   "execution_count": null,
   "id": "2644b71b",
   "metadata": {},
   "outputs": [],
   "source": []
  }
 ],
 "metadata": {
  "kernelspec": {
   "display_name": "Python 3 (ipykernel)",
   "language": "python",
   "name": "python3"
  },
  "language_info": {
   "codemirror_mode": {
    "name": "ipython",
    "version": 3
   },
   "file_extension": ".py",
   "mimetype": "text/x-python",
   "name": "python",
   "nbconvert_exporter": "python",
   "pygments_lexer": "ipython3",
   "version": "3.9.13"
  }
 },
 "nbformat": 4,
 "nbformat_minor": 5
}
